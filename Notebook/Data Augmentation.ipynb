{
 "cells": [
  {
   "cell_type": "code",
   "execution_count": 60,
   "metadata": {},
   "outputs": [],
   "source": [
    "import cv2 \n",
    "import random\n",
    "import numpy as np\n",
    "import os"
   ]
  },
  {
   "cell_type": "code",
   "execution_count": 44,
   "metadata": {},
   "outputs": [],
   "source": [
    "def horizontal_shift(img, ratio=0.0):\n",
    "    if ratio > 1 or ratio < 0:\n",
    "        print('Value should be less than 1 and greater than 0')\n",
    "        return img\n",
    "    ratio = random.uniform(-ratio, ratio)\n",
    "    h, w = img.shape[:2]\n",
    "    to_shift = w*ratio\n",
    "    if ratio > 0:\n",
    "        img = img[:, :int(w-to_shift), :]\n",
    "    if ratio < 0:\n",
    "        img = img[:, int(-1*to_shift):, :]\n",
    "    img = fill(img, h, w)\n",
    "    return img\n",
    "\n",
    "def vertical_shift(img, ratio=0.0):\n",
    "    if ratio > 1 or ratio < 0:\n",
    "        print('Value should be less than 1 and greater than 0')\n",
    "        return img\n",
    "    ratio = random.uniform(-ratio, ratio)\n",
    "    h, w = img.shape[:2]\n",
    "    to_shift = h*ratio\n",
    "    if ratio > 0:\n",
    "        img = img[:int(h-to_shift), :, :]\n",
    "    if ratio < 0:+\n",
    "        img = img[int(-1*to_shift):, :, :]\n",
    "    img = fill(img, h, w)\n",
    "    return img\n",
    "\n",
    "def brightness(img, low, high):\n",
    "    value = random.uniform(low, high)\n",
    "    hsv = cv2.cvtColor(img, cv2.COLOR_BGR2HSV)\n",
    "    hsv = np.array(hsv, dtype = np.float64)\n",
    "    hsv[:,:,1] = hsv[:,:,1]*value\n",
    "    hsv[:,:,1][hsv[:,:,1]>255]  = 255\n",
    "    hsv[:,:,2] = hsv[:,:,2]*value \n",
    "    hsv[:,:,2][hsv[:,:,2]>255]  = 255\n",
    "    hsv = np.array(hsv, dtype = np.uint8)\n",
    "    img = cv2.cvtColor(hsv, cv2.COLOR_HSV2BGR)\n",
    "    return img\n",
    "\n",
    "def zoom(img, value):\n",
    "    if value > 1 or value < 0:\n",
    "        print('Value for zoom should be less than 1 and greater than 0')\n",
    "        return img\n",
    "    value = random.uniform(value, 1)\n",
    "    h, w = img.shape[:2]\n",
    "    h_taken = int(value*h)\n",
    "    w_taken = int(value*w)\n",
    "    h_start = random.randint(0, h-h_taken)\n",
    "    w_start = random.randint(0, w-w_taken)\n",
    "    img = img[h_start:h_start+h_taken, w_start:w_start+w_taken, :]\n",
    "    img = fill(img, h, w)\n",
    "    return img\n",
    "\n",
    "def horizontal_flip(img, flag):\n",
    "    if flag:\n",
    "        return cv2.flip(img, 1)\n",
    "    else:\n",
    "        return img\n",
    "\n",
    "    \n",
    "def rotation(img, angle):\n",
    "    angle = int(random.uniform(-angle, angle))\n",
    "    h, w = img.shape[:2]\n",
    "    M = cv2.getRotationMatrix2D((int(w/2), int(h/2)), angle, 1)\n",
    "    img = cv2.warpAffine(img, M, (w, h))\n",
    "    return img"
   ]
  },
  {
   "cell_type": "code",
   "execution_count": 46,
   "metadata": {},
   "outputs": [
    {
     "data": {
      "text/plain": [
       "-1"
      ]
     },
     "execution_count": 46,
     "metadata": {},
     "output_type": "execute_result"
    }
   ],
   "source": [
    "img = cv2.imread('1.jpg')\n",
    "img = rotation(img, 12)\n",
    "cv2.imshow('Result', img)\n",
    "# cv2.imwrite('rslt.jpg',img)\n",
    "cv2.waitKey(0)"
   ]
  },
  {
   "cell_type": "code",
   "execution_count": 49,
   "metadata": {},
   "outputs": [],
   "source": [
    "root = r'G:\\DS\\3.Personal_Projects\\BdSLNet\\Dataset\\BdSL36_Base'\n",
    "Dtype = ['Original','Augmented']\n",
    "folder_name = ['1','2','3','4','5','6','7','8','9','10','11','12','13','14','15','16','17','18','19','20','21','22','23','24','25','26','27','28','29','30','31','32','33','34','35','36']"
   ]
  },
  {
   "cell_type": "code",
   "execution_count": 84,
   "metadata": {},
   "outputs": [
    {
     "name": "stdout",
     "output_type": "stream",
     "text": [
      "G:\\DS\\3.Personal_Projects\\BdSLNet\\Dataset\\BdSL36_Base/Original/1/1-1\n",
      "G:\\DS\\3.Personal_Projects\\BdSLNet\\Dataset\\BdSL36_Base/Original/2/2-1\n",
      "G:\\DS\\3.Personal_Projects\\BdSLNet\\Dataset\\BdSL36_Base/Original/3/20200417_002830\n",
      "G:\\DS\\3.Personal_Projects\\BdSLNet\\Dataset\\BdSL36_Base/Original/4/20180928_115023\n",
      "G:\\DS\\3.Personal_Projects\\BdSLNet\\Dataset\\BdSL36_Base/Original/5/20200417_002842\n",
      "G:\\DS\\3.Personal_Projects\\BdSLNet\\Dataset\\BdSL36_Base/Original/6/20180928_115104\n",
      "G:\\DS\\3.Personal_Projects\\BdSLNet\\Dataset\\BdSL36_Base/Original/7/11\n",
      "G:\\DS\\3.Personal_Projects\\BdSLNet\\Dataset\\BdSL36_Base/Original/8/12\n",
      "G:\\DS\\3.Personal_Projects\\BdSLNet\\Dataset\\BdSL36_Base/Original/9/13\n",
      "G:\\DS\\3.Personal_Projects\\BdSLNet\\Dataset\\BdSL36_Base/Original/10/10-1\n",
      "G:\\DS\\3.Personal_Projects\\BdSLNet\\Dataset\\BdSL36_Base/Original/11/11-1\n",
      "G:\\DS\\3.Personal_Projects\\BdSLNet\\Dataset\\BdSL36_Base/Original/12/12-1\n",
      "G:\\DS\\3.Personal_Projects\\BdSLNet\\Dataset\\BdSL36_Base/Original/13/13-1\n",
      "G:\\DS\\3.Personal_Projects\\BdSLNet\\Dataset\\BdSL36_Base/Original/14/14-1\n",
      "G:\\DS\\3.Personal_Projects\\BdSLNet\\Dataset\\BdSL36_Base/Original/15/15-1\n",
      "G:\\DS\\3.Personal_Projects\\BdSLNet\\Dataset\\BdSL36_Base/Original/16/16-1\n",
      "G:\\DS\\3.Personal_Projects\\BdSLNet\\Dataset\\BdSL36_Base/Original/17/17-1\n",
      "G:\\DS\\3.Personal_Projects\\BdSLNet\\Dataset\\BdSL36_Base/Original/18/18-1\n",
      "G:\\DS\\3.Personal_Projects\\BdSLNet\\Dataset\\BdSL36_Base/Original/19/19-1\n",
      "G:\\DS\\3.Personal_Projects\\BdSLNet\\Dataset\\BdSL36_Base/Original/20/20-1\n",
      "G:\\DS\\3.Personal_Projects\\BdSLNet\\Dataset\\BdSL36_Base/Original/21/20200417_001147\n",
      "G:\\DS\\3.Personal_Projects\\BdSLNet\\Dataset\\BdSL36_Base/Original/22/20200417_001202\n",
      "G:\\DS\\3.Personal_Projects\\BdSLNet\\Dataset\\BdSL36_Base/Original/23/20200417_001232\n",
      "G:\\DS\\3.Personal_Projects\\BdSLNet\\Dataset\\BdSL36_Base/Original/24/20200417_001244\n",
      "G:\\DS\\3.Personal_Projects\\BdSLNet\\Dataset\\BdSL36_Base/Original/25/20200417_002432\n",
      "G:\\DS\\3.Personal_Projects\\BdSLNet\\Dataset\\BdSL36_Base/Original/26/20200417_001314\n",
      "G:\\DS\\3.Personal_Projects\\BdSLNet\\Dataset\\BdSL36_Base/Original/27/20200417_001403\n",
      "G:\\DS\\3.Personal_Projects\\BdSLNet\\Dataset\\BdSL36_Base/Original/28/14940d59-6789-428a-985a-6a6a9addc8a8\n",
      "G:\\DS\\3.Personal_Projects\\BdSLNet\\Dataset\\BdSL36_Base/Original/29/20200417_002308\n",
      "G:\\DS\\3.Personal_Projects\\BdSLNet\\Dataset\\BdSL36_Base/Original/30/20200417_001606\n",
      "G:\\DS\\3.Personal_Projects\\BdSLNet\\Dataset\\BdSL36_Base/Original/31/20200417_001600\n",
      "G:\\DS\\3.Personal_Projects\\BdSLNet\\Dataset\\BdSL36_Base/Original/32/20200417_001305\n",
      "G:\\DS\\3.Personal_Projects\\BdSLNet\\Dataset\\BdSL36_Base/Original/33/20200417_002500\n",
      "G:\\DS\\3.Personal_Projects\\BdSLNet\\Dataset\\BdSL36_Base/Original/34/20200417_002506\n",
      "G:\\DS\\3.Personal_Projects\\BdSLNet\\Dataset\\BdSL36_Base/Original/35/20200417_002513\n",
      "G:\\DS\\3.Personal_Projects\\BdSLNet\\Dataset\\BdSL36_Base/Original/36/20200417_002525\n"
     ]
    }
   ],
   "source": [
    "\n",
    "for folder in folder_name:\n",
    "    for file in os.listdir(root+'/'+Dtype[0]+'/'+folder):\n",
    "#         print((root+'/'+Dtype[0]+'/'+folder+'/'+file[:-4]))\n",
    "#         break\n",
    "        \n",
    "        img = cv2.imread(root+'/'+Dtype[0]+'/'+folder+'/'+file)\n",
    "        img_rot = rotation(img, 12)\n",
    "      \n",
    "        \n",
    "     "
   ]
  },
  {
   "cell_type": "code",
   "execution_count": null,
   "metadata": {},
   "outputs": [],
   "source": []
  }
 ],
 "metadata": {
  "kernelspec": {
   "display_name": "Python 3",
   "language": "python",
   "name": "python3"
  },
  "language_info": {
   "codemirror_mode": {
    "name": "ipython",
    "version": 3
   },
   "file_extension": ".py",
   "mimetype": "text/x-python",
   "name": "python",
   "nbconvert_exporter": "python",
   "pygments_lexer": "ipython3",
   "version": "3.8.5"
  }
 },
 "nbformat": 4,
 "nbformat_minor": 4
}